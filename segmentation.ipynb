{
  "nbformat": 4,
  "nbformat_minor": 0,
  "metadata": {
    "colab": {
      "provenance": [],
      "authorship_tag": "ABX9TyNI29NpDUfZJnX81pfsXDR1",
      "include_colab_link": true
    },
    "kernelspec": {
      "name": "python3",
      "display_name": "Python 3"
    },
    "language_info": {
      "name": "python"
    }
  },
  "cells": [
    {
      "cell_type": "markdown",
      "metadata": {
        "id": "view-in-github",
        "colab_type": "text"
      },
      "source": [
        "<a href=\"https://colab.research.google.com/github/JosephGeorgeMtech/UNET_nucleiDataset/blob/main/segmentation.ipynb\" target=\"_parent\"><img src=\"https://colab.research.google.com/assets/colab-badge.svg\" alt=\"Open In Colab\"/></a>"
      ]
    },
    {
      "cell_type": "code",
      "execution_count": null,
      "metadata": {
        "id": "vPsG4eWpj6vs"
      },
      "outputs": [],
      "source": [
        "from google.colab import drive\n",
        "drive.mount('/content/drive')"
      ]
    },
    {
      "cell_type": "code",
      "source": [
        "import tensorflow as tf\n",
        "print(tf.__version__)\n",
        "\n",
        "from tensorflow import keras\n",
        "tf.random.set_seed(42)\n",
        "\n",
        "import numpy as np\n",
        "np.random.seed(42)\n",
        "\n",
        "import matplotlib.pyplot as plt\n",
        "%matplotlib inline\n",
        "\n",
        "import glob\n",
        "import PIL\n",
        "from PIL import Image\n",
        "import os\n",
        "import cv2"
      ],
      "metadata": {
        "id": "rnq6OJqmkAl5"
      },
      "execution_count": null,
      "outputs": []
    },
    {
      "cell_type": "code",
      "source": [
        "! unzip '/content/drive/MyDrive/nucleiData.zip' -d '/content/nucleiDataset/'"
      ],
      "metadata": {
        "id": "kx2MILapkAov"
      },
      "execution_count": null,
      "outputs": []
    },
    {
      "cell_type": "markdown",
      "source": [
        "Training data"
      ],
      "metadata": {
        "id": "tIMrh20LkKpI"
      }
    },
    {
      "cell_type": "code",
      "source": [
        "trainFiles = glob.glob(\"/content/nucleiDataset/nucleiData/nTrain/*_gray.pgm\")\n",
        "\n",
        "print(trainFiles[:10])\n",
        "\n",
        "X_train = []\n",
        "y_train = []\n",
        "\n",
        "for filePath in trainFiles:\n",
        "    X_i = Image.open(filePath)\n",
        "    X_i = np.array(X_i)/255.0\n",
        "    \n",
        "    X_train.append(X_i)\n",
        "    \n",
        "    y_i = Image.open(filePath.replace(\"gray\", \"mask\"))\n",
        "    y_i = np.array(y_i)/255\n",
        "    \n",
        "    y_train.append(y_i)"
      ],
      "metadata": {
        "id": "SrJ-1QjNkAup"
      },
      "execution_count": null,
      "outputs": []
    },
    {
      "cell_type": "code",
      "source": [
        "X_train = np.array(X_train)\n",
        "y_train = np.array(y_train)\n",
        "\n",
        "print(X_train.shape)\n",
        "print(y_train.shape)"
      ],
      "metadata": {
        "id": "_mJSBv81kAxH"
      },
      "execution_count": null,
      "outputs": []
    },
    {
      "cell_type": "code",
      "source": [
        "plt.imshow(X_train[0], cmap='gray')\n",
        "plt.show()"
      ],
      "metadata": {
        "id": "YL_BgdubkAz7"
      },
      "execution_count": null,
      "outputs": []
    },
    {
      "cell_type": "code",
      "source": [
        "plt.imshow(y_train[0], cmap='gray')\n",
        "plt.show()"
      ],
      "metadata": {
        "id": "vnpJBcVVkA2i"
      },
      "execution_count": null,
      "outputs": []
    },
    {
      "cell_type": "markdown",
      "source": [
        "Test data"
      ],
      "metadata": {
        "id": "6vVcCbQykXqS"
      }
    },
    {
      "cell_type": "code",
      "source": [
        "testFiles = glob.glob(\"/content/nucleiDataset/nucleiData/nTest/*_gray.pgm\")\n",
        "\n",
        "print(testFiles[:10])\n",
        "\n",
        "X_test = []\n",
        "y_test = []\n",
        "\n",
        "for filePath in testFiles:\n",
        "    X_i = Image.open(filePath)\n",
        "    X_i = np.array(X_i)/255.0\n",
        "    \n",
        "    X_test.append(X_i)\n",
        "    \n",
        "    y_i = Image.open(filePath.replace(\"gray\", \"mask\"))\n",
        "    y_i = np.array(y_i)/255\n",
        "    \n",
        "    y_test.append(y_i)"
      ],
      "metadata": {
        "id": "G-bKgC7bkA5K"
      },
      "execution_count": null,
      "outputs": []
    },
    {
      "cell_type": "code",
      "source": [
        "X_test = np.array(X_test)\n",
        "y_test = np.array(y_test)\n",
        "\n",
        "print(X_test.shape)\n",
        "print(y_test.shape)"
      ],
      "metadata": {
        "id": "AGn1KxEMkYnB"
      },
      "execution_count": null,
      "outputs": []
    },
    {
      "cell_type": "code",
      "source": [
        "plt.imshow(X_test[1], cmap='gray')\n",
        "plt.show()"
      ],
      "metadata": {
        "id": "aBXxl23NkYp5"
      },
      "execution_count": null,
      "outputs": []
    },
    {
      "cell_type": "code",
      "source": [
        "plt.imshow(y_test[1], cmap='gray')\n",
        "plt.show()"
      ],
      "metadata": {
        "id": "E1FT3dcmkYsl"
      },
      "execution_count": null,
      "outputs": []
    },
    {
      "cell_type": "markdown",
      "source": [
        "\n",
        "The model requires the input to be 4D\n",
        "\n",
        "np.newaxis is to add new dimension to the array. The position of the np.newaxis represents where I want to add dimensions.\n",
        "\n",
        "a([0, 1, 2, 3, 4, 5, 6, 7, 8, 9]) : shape is (10,) \\\n",
        "\n",
        "a[:, np.newaxis] : shape is (10,1)\\\n",
        "\n",
        "a[np.newaxis, :] : shape is (1,10)\n",
        "\n",
        "numpy.repeat(a, repeats, axis=None) # Repeat elements of an array.\n"
      ],
      "metadata": {
        "id": "XnmRSbVtkjDj"
      }
    },
    {
      "cell_type": "code",
      "source": [
        "X_train = X_train[..., np.newaxis]\n",
        "y_train = y_train[..., np.newaxis]\n",
        "\n",
        "\n",
        "print(X_train.shape)\n",
        "print(y_train.shape)\n",
        "\n",
        "\n",
        "X_test = X_test[..., np.newaxis]\n",
        "y_test = y_test[..., np.newaxis]\n",
        "\n",
        "\n",
        "print(X_test.shape)\n",
        "print(y_test.shape)\n",
        "\n",
        "X_train=np.repeat(X_train,3,-1) #-1 indicates the last dimension, \n",
        "                                              #which indicates the axis along whic to repeat values\n",
        "X_test=np.repeat(X_test,3,-1)\n",
        "print(X_train.shape)\n",
        "print(y_train.shape)\n",
        "print(X_test.shape)\n",
        "print(y_test.shape)\n",
        "\n",
        "'''\n",
        "X_train=np.repeat(X_train[..., np.newaxis],3,-1) #-1 indicates the last dimension, \n",
        "                                              #which indicates the axis along whic to repeat values\n",
        "y_train= y_train[..., np.newaxis]\n",
        "#y_train=np.repeat(y_train[..., np.newaxis],1,-1)\n",
        "print(X_train.shape)\n",
        "print(y_train.shape)\n",
        "'''\n",
        "'''\n",
        "X_test = X_test[..., np.newaxis]\n",
        "y_test = y_test[..., np.newaxis]\n",
        "print(X_test.shape)\n",
        "print(y_test.shape)\n",
        "'''\n",
        "'''\n",
        "X_test=np.repeat(X_test[..., np.newaxis],3,-1)\n",
        "y_test=np.repeat(y_test[..., np.newaxis],1,-1)\n",
        "print(X_test.shape)\n",
        "print(y_test.shape)\n",
        "'''"
      ],
      "metadata": {
        "id": "j5UolBxzkYuw"
      },
      "execution_count": null,
      "outputs": []
    },
    {
      "cell_type": "code",
      "source": [
        "'''\n",
        "X_train = X_train[..., np.newaxis]\n",
        "y_train = y_train[..., np.newaxis]\n",
        "\n",
        "\n",
        "print(X_train.shape)\n",
        "print(y_train.shape)\n",
        "'''\n",
        "'''\n",
        "X_train=np.repeat(X_train[..., np.newaxis],3,-1) #-1 indicates the last dimension, \n",
        "                                              #which indicates the axis along whic to repeat values\n",
        "y_train= y_train[..., np.newaxis]\n",
        "#y_train=np.repeat(y_train[..., np.newaxis],1,-1)\n",
        "print(X_train.shape)\n",
        "print(y_train.shape)\n",
        "'''\n",
        "'''\n",
        "X_test = X_test[..., np.newaxis]\n",
        "y_test = y_test[..., np.newaxis]\n",
        "print(X_test.shape)\n",
        "print(y_test.shape)\n",
        "'''\n",
        "\n",
        "X_test=np.repeat(X_test[..., np.newaxis],3,-1)\n",
        "y_test=y_test[..., np.newaxis]\n",
        "print(X_test.shape)\n",
        "print(y_test.shape)"
      ],
      "metadata": {
        "id": "_5bRTdC7kkZi"
      },
      "execution_count": null,
      "outputs": []
    },
    {
      "cell_type": "markdown",
      "source": [
        "New attempt"
      ],
      "metadata": {
        "id": "Wl_jbRcVkufy"
      }
    },
    {
      "cell_type": "code",
      "source": [
        "import numpy as np \n",
        "import os\n",
        "import skimage.io as io\n",
        "import skimage.transform as trans\n",
        "import numpy as np\n",
        "from keras.models import *\n",
        "from keras.layers import *\n",
        "from keras.optimizers import *\n",
        "from keras.callbacks import ModelCheckpoint, LearningRateScheduler\n",
        "from keras import backend as keras"
      ],
      "metadata": {
        "id": "IH3QgCnUkkhR"
      },
      "execution_count": null,
      "outputs": []
    },
    {
      "cell_type": "code",
      "source": [
        "#https://keras.io/api/applications/"
      ],
      "metadata": {
        "id": "zNXcS8y9kxHq"
      },
      "execution_count": null,
      "outputs": []
    },
    {
      "cell_type": "code",
      "source": [
        "from keras import applications\n",
        "\n",
        "vgg_model = applications.VGG16(weights='imagenet',\n",
        "                               include_top=False,\n",
        "                               input_shape=(128, 128, 3))\n"
      ],
      "metadata": {
        "id": "O_D-YES4kxKg"
      },
      "execution_count": null,
      "outputs": []
    },
    {
      "cell_type": "code",
      "source": [
        "# Creating dictionary that maps layer names to the layers\n",
        "layer_dict = dict([(layer.name, layer) for layer in vgg_model.layers])"
      ],
      "metadata": {
        "id": "IidCNg6GkxNE"
      },
      "execution_count": null,
      "outputs": []
    },
    {
      "cell_type": "code",
      "source": [
        "layer_dict"
      ],
      "metadata": {
        "id": "k7gu9yJSk3Mp"
      },
      "execution_count": null,
      "outputs": []
    },
    {
      "cell_type": "code",
      "source": [
        "l1 = layer_dict['block1_conv2'].output\n",
        "l2 = layer_dict['block2_conv2'].output\n",
        "l3 = layer_dict['block3_conv3'].output\n",
        "l4 = layer_dict['block4_conv3'].output\n",
        "l5 = layer_dict['block5_conv3'].output\n",
        "l6_pool= layer_dict['block5_pool'].output\n",
        "\n",
        "#Upsampling to level 5\n",
        "u5 = Conv2DTranspose(512, (2, 2), strides=(2, 2), padding='same') (l6_pool)\n",
        "u5 = concatenate([u5, l5])\n",
        "\n",
        "c5 = Conv2D(512, (3, 3), activation='relu',  padding='same') (u5)\n",
        "c5 = Conv2D(512, (3, 3), activation='relu',  padding='same') (c5)\n",
        "c5 = Conv2D(512, (3, 3), activation='relu',  padding='same') (c5)\n",
        "\n",
        "#Upsampling to level 4\n",
        "u4 = Conv2DTranspose(512, (2, 2), strides=(2, 2), padding='same') (c5)\n",
        "u4 = concatenate([u4, l4])\n",
        "\n",
        "c4 = Conv2D(512, (3, 3), activation='relu',  padding='same') (u4)\n",
        "c4 = Conv2D(512, (3, 3), activation='relu',  padding='same') (c4)\n",
        "c4 = Conv2D(512, (3, 3), activation='relu',  padding='same') (c4)\n",
        "\n",
        "#Upsampling to level 3\n",
        "\n",
        "u3 = Conv2DTranspose(256, (2, 2), strides=(2, 2), padding='same') (c4)\n",
        "u3 = concatenate([u3, l3])\n",
        "\n",
        "c3 = Conv2D(256, (3, 3), activation='relu',  padding='same') (u3)\n",
        "c3 = Conv2D(256, (3, 3), activation='relu',  padding='same') (c3)\n",
        "c3 = Conv2D(256, (3, 3), activation='relu',  padding='same') (c3)\n",
        "\n",
        "#Upsampling to level 2\n",
        "u2 = Conv2DTranspose(128, (2, 2), strides=(2, 2), padding='same') (c3)\n",
        "u2 = concatenate([u2, l2])\n",
        "\n",
        "c2 = Conv2D(128, (3, 3), activation='relu',  padding='same') (u2)\n",
        "c2 = Conv2D(128, (3, 3), activation='relu',  padding='same') (c2)\n",
        "\n",
        "#Upsampling to level 1\n",
        "u1 = Conv2DTranspose(64, (2, 2), strides=(2, 2), padding='same') (c2)\n",
        "u1 = concatenate([u1, l1])\n",
        "\n",
        "c1 = Conv2D(64, (3, 3), activation='relu' ,padding='same') (u1)\n",
        "c1 = Conv2D(64, (3, 3), activation='relu', padding='same') (c1)\n",
        "\n",
        "#Final 1*1 convolution \n",
        "outputs = Conv2D(1, (1, 1), activation='sigmoid') (c1)\n",
        "\n",
        "UNet_model = Model(inputs=[vgg_model.input], outputs=[outputs])"
      ],
      "metadata": {
        "id": "w7RlY0P_k3Pi"
      },
      "execution_count": null,
      "outputs": []
    },
    {
      "cell_type": "code",
      "source": [
        "UNet_model.summary()"
      ],
      "metadata": {
        "id": "ZtrGWqQkk3Tw"
      },
      "execution_count": null,
      "outputs": []
    },
    {
      "cell_type": "code",
      "source": [
        "tf.keras.utils.plot_model(\n",
        "    UNet_model,\n",
        "    to_file='UNet_model.png',\n",
        "    show_shapes=False,\n",
        "    show_layer_names=False,\n",
        "    rankdir='LR',\n",
        "    expand_nested=False,\n",
        "    dpi=96\n",
        ")"
      ],
      "metadata": {
        "id": "M2AaXo-Yk3W1"
      },
      "execution_count": null,
      "outputs": []
    },
    {
      "cell_type": "code",
      "source": [
        "UNet_model.compile(optimizer='adam', loss='binary_crossentropy', metrics=['accuracy'])"
      ],
      "metadata": {
        "id": "KmBs8mvRlFBT"
      },
      "execution_count": null,
      "outputs": []
    },
    {
      "cell_type": "code",
      "source": [
        "history_model = UNet_model.fit(X_train, y_train, validation_split=0.1, batch_size=32, epochs=50)"
      ],
      "metadata": {
        "id": "3ZPYyuFJlFHJ"
      },
      "execution_count": null,
      "outputs": []
    },
    {
      "cell_type": "code",
      "source": [
        "testLoss, testAccuracy = UNet_model.evaluate(X_test, y_test)\n",
        "print(\"Test-loss: %f, Test-accuracy: %f\" % (testLoss, testAccuracy))"
      ],
      "metadata": {
        "id": "xxKo8c7zlFJo"
      },
      "execution_count": null,
      "outputs": []
    },
    {
      "cell_type": "markdown",
      "source": [
        "Predicted segmentation (grayscale)"
      ],
      "metadata": {
        "id": "-LKT4NP0lP25"
      }
    },
    {
      "cell_type": "code",
      "source": [
        "m1 = UNet_model.predict(X_test[10:11])\n",
        "plt.imshow(np.squeeze(m1), cmap='gray')"
      ],
      "metadata": {
        "id": "p-ZEMtKulKS4"
      },
      "execution_count": null,
      "outputs": []
    },
    {
      "cell_type": "markdown",
      "source": [
        "Predicted segmentation (binary)"
      ],
      "metadata": {
        "id": "tUcn4qZLlUXo"
      }
    },
    {
      "cell_type": "code",
      "source": [
        "prediciton_t = (m1 > 0.5).astype(np.uint8)\n",
        "plt.imshow(np.squeeze(prediciton_t), cmap='gray')"
      ],
      "metadata": {
        "id": "WZi46oMulKVg"
      },
      "execution_count": null,
      "outputs": []
    },
    {
      "cell_type": "markdown",
      "source": [
        "Original Input"
      ],
      "metadata": {
        "id": "qqQTL2Tjlay4"
      }
    },
    {
      "cell_type": "code",
      "source": [
        "plt.imshow(np.squeeze(X_test[10:11]), cmap='gray')\n",
        "plt.show()"
      ],
      "metadata": {
        "id": "l8D5ASwUlYh5"
      },
      "execution_count": null,
      "outputs": []
    },
    {
      "cell_type": "code",
      "source": [
        "fig, (ax1, ax2, ax3) = plt.subplots(1, 3)\n",
        "\n",
        "fig.set_figheight(20)\n",
        "fig.set_figwidth(20)\n",
        "\n",
        "ax1.set_title('Original')\n",
        "ax1.imshow(np.squeeze(X_test[10:11]), cmap='gray')\n",
        "\n",
        "ax2.set_title('Segmented - grayscale')\n",
        "ax2.imshow(np.squeeze(m1), cmap='gray')\n",
        "\n",
        "ax3.set_title('Segmented - binary')\n",
        "ax3.imshow(np.squeeze(prediciton_t), cmap='gray')\n",
        "\n",
        "plt.show()"
      ],
      "metadata": {
        "id": "87rLgOFxlYkx"
      },
      "execution_count": null,
      "outputs": []
    },
    {
      "cell_type": "code",
      "source": [],
      "metadata": {
        "id": "_Q4tyCv2lYnf"
      },
      "execution_count": null,
      "outputs": []
    },
    {
      "cell_type": "code",
      "source": [],
      "metadata": {
        "id": "6AGoJyTylYp4"
      },
      "execution_count": null,
      "outputs": []
    }
  ]
}